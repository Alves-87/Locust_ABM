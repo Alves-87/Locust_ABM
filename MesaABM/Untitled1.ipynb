{
 "cells": [
  {
   "cell_type": "code",
   "execution_count": 64,
   "id": "b1e5d242",
   "metadata": {
    "scrolled": true
   },
   "outputs": [
    {
     "name": "stdout",
     "output_type": "stream",
     "text": [
      "Resources[200, 200, 200, 200, 200, 200, 200, 200, 200, 200]\n"
     ]
    },
    {
     "data": {
      "text/plain": [
       "<matplotlib.colorbar.Colorbar at 0x1da9ead8250>"
      ]
     },
     "execution_count": 64,
     "metadata": {},
     "output_type": "execute_result"
    },
    {
     "data": {
      "image/png": "[encoded data removed]",
      "text/plain": [
       "<Figure size 432x288 with 2 Axes>"
      ]
     },
     "metadata": {
      "needs_background": "light"
     },
     "output_type": "display_data"
    }
   ],
   "source": [
    "from mesa import Agent, Model\n",
    "from mesa.space import MultiGrid\n",
    "from mesa.time import SimultaneousActivation\n",
    "import random\n",
    "import numpy as np\n",
    "import matplotlib.pyplot as plt\n",
    "\n",
    "# R_in =\n",
    "delta_t = 1\n",
    "T = 100 #timesteps ##MatLap T_steps_end \n",
    "sizeOfFeild = 10 #currently same as time step\n",
    "N = 1000 #numbe of agents ##MatLap N_agents\n",
    "R_plus = 200\n",
    "v = .04\n",
    "Lambda = .00001\n",
    "alpha = 0.0045\n",
    "beta = 0.02\n",
    "eta = 0.0036\n",
    "theta = 0.14\n",
    "gamma = 0.03\n",
    "delta = 0.005\n",
    "\n",
    "a = alpha\n",
    "b = eta\n",
    "r_fm = gamma\n",
    "c = beta\n",
    "d = theta\n",
    "r_mf = delta\n",
    "delta_x = v * delta_t\n",
    "\n",
    "#Probability function of going from isFeeding -> ~isFeeding\n",
    "def Kmf(r):\n",
    "    y = b - (b - a) * np.exp(-r_fm * r)\n",
    "    return y\n",
    "\n",
    "#Probability function of going from ~isFeeding -> isFeeding\n",
    "def Kfm(r):\n",
    "    y =  (d - (d-c) * np.exp(-r_mf * r))\n",
    "    return y\n",
    "\n",
    "# Exp function of S to reduce R by. R(t+1) = R*R_exp(S)\n",
    "def  updateResources(S):\n",
    "    y = np.exp( -Lambda*S* delta_t/delta_x)\n",
    "    return y\n",
    "\n",
    "class LocustAgent(Agent):\n",
    "    def __init__(self, unique_id, model):\n",
    "        super().__init__(unique_id, model)\n",
    "        self.x = 0\n",
    "        self.isFeeding =0\n",
    "\n",
    "    def move(self):\n",
    "        self.model.grid.move_agent(self, (self.x + 1,self.unique_id))\n",
    "\n",
    "    def step(self):\n",
    "        if self.isFeeding == 0:\n",
    "            p = random.randint(0,1)\n",
    "            Resource = Resources[self.x]\n",
    "            if (p <= Kmf(Resource) * delta_t):\n",
    "                self.isFeeding = 1\n",
    "        else:\n",
    "            p = random.randint(0,1)\n",
    "            Resource = Resources[self.x]\n",
    "            if (p <= Kfm(Resource) * delta_t):\n",
    "                self.isFeeding = 0\n",
    "        if(self.isFeeding == 1):\n",
    "            if(self.x )\n",
    "            self.move()\n",
    " \n",
    "class LocustModel(Model):\n",
    "    \"\"\"A model with some number of agents.\"\"\"\n",
    "    def __init__(self, N, width, height):\n",
    "        self.num_agents = N\n",
    "        self.grid = MultiGrid(width, height, True)\n",
    "        self.schedule = SimultaneousActivation(self)\n",
    "        self.resources = [R_plus] * width\n",
    "\n",
    "        print(\"Resources\" + str(self.resources))\n",
    "        # Create agents\n",
    "        for i in range(self.num_agents):\n",
    "            a = LocustAgent(i, self)\n",
    "            self.schedule.add(a)\n",
    "            #print (\"Hi, Iss am agent \" + str(a.unique_id) +\" at grid : (\" + str(0) + \",\" + str(a.unique_id) +')')\n",
    "            # Add the agent to a random grid cell\n",
    "            self.grid.place_agent(a, (0, a.unique_id))\n",
    "\n",
    "    def step(self):\n",
    "        '''Advance the model by one step.'''\n",
    "        self.schedule.step()\n",
    "\n",
    "    def get_resource(self, index):\n",
    "        return self.resources[index]\n",
    "\n",
    "###############################################################\n",
    "model = LocustModel(10, 10, 10)\n",
    "Resources = [R_plus] * 10\n",
    "\n",
    "for i in range(20):\n",
    "    model.step()\n",
    "\n",
    "\n",
    "agent_counts = np.zeros((model.grid.width, model.grid.height))\n",
    "for cell in model.grid.coord_iter():\n",
    "    cell_content, x, y = cell\n",
    "    agent_count = len(cell_content)\n",
    "    agent_counts[x][y] = agent_count\n",
    "plt.imshow(agent_counts, interpolation='nearest')\n",
    "plt.colorbar()\n",
    "# plt.show()"
   ]
  },
  {
   "cell_type": "code",
   "execution_count": null,
   "id": "ed71bd8b",
   "metadata": {},
   "outputs": [],
   "source": []
  }
 ],
 "metadata": {
  "kernelspec": {
   "display_name": "Python 3",
   "language": "python",
   "name": "python3"
  },
  "language_info": {
   "codemirror_mode": {
    "name": "ipython",
    "version": 3
   },
   "file_extension": ".py",
   "mimetype": "text/x-python",
   "name": "python",
   "nbconvert_exporter": "python",
   "pygments_lexer": "ipython3",
   "version": "3.9.4"
  }
 },
 "nbformat": 4,
 "nbformat_minor": 5
}
